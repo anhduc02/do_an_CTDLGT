{
  "nbformat": 4,
  "nbformat_minor": 0,
  "metadata": {
    "colab": {
      "name": "BT14_SapXepChon.ipynb",
      "provenance": []
    },
    "kernelspec": {
      "name": "python3",
      "display_name": "Python 3"
    },
    "language_info": {
      "name": "python"
    }
  },
  "cells": [
    {
      "cell_type": "code",
      "metadata": {
        "colab": {
          "base_uri": "https://localhost:8080/"
        },
        "id": "lyV3dR5n-Con",
        "outputId": "ef2e8c36-a707-4a29-9f8b-79490ac32eab"
      },
      "source": [
        "def selection_sort(nums):\n",
        "    # Giá trị này của i tương ứng với bao nhiêu giá trị đã được sắp xếp \n",
        "    for i in range(len(nums)):\n",
        "        # Giả định rằng mục đầu tiên của phân đoạn chưa được sắp xếp là mục nhỏ nhất \n",
        "        lowest_value_index = i\n",
        "        # Vòng lặp này lặp lại các mục chưa được sắp xếp \n",
        "        for j in range(i + 1, len(nums)):\n",
        "            if nums[j] < nums[lowest_value_index]:\n",
        "                lowest_value_index = j\n",
        "        # Hoán đổi các giá trị của phần tử chưa được sắp xếp thấp nhất với phần tử chưa được sắp xếp đầu tiên\n"
        "        nums[i], nums[lowest_value_index] = nums[lowest_value_index], nums[i]\n",
        "\n",
        "\n",
        "# Xác thực là nó hoạt động\n",
        "random_list_of_nums = [12, 8, 3, 20, 11]\n",
        "selection_sort(random_list_of_nums)\n",
        "print(random_list_of_nums)  "
      ],
      "execution_count": 8,
      "outputs": [
        {
          "output_type": "stream",
          "text": [
            "[3, 8, 11, 12, 20]\n"
          ],
          "name": "stdout"
        }
      ]
    }
  ]
}
